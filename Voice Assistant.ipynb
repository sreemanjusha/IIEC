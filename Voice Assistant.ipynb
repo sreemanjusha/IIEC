{
 "cells": [
  {
   "cell_type": "code",
   "execution_count": 4,
   "metadata": {},
   "outputs": [
    {
     "name": "stdout",
     "output_type": "stream",
     "text": [
      "content-type: text/html\n",
      "\n",
      "Welcome! I am Ron!\n",
      "Well! Who are you?\n"
     ]
    },
    {
     "ename": "UnknownValueError",
     "evalue": "",
     "output_type": "error",
     "traceback": [
      "\u001b[1;31m---------------------------------------------------------------------------\u001b[0m",
      "\u001b[1;31mUnknownValueError\u001b[0m                         Traceback (most recent call last)",
      "\u001b[1;32m<ipython-input-4-6b65065a0a4d>\u001b[0m in \u001b[0;36m<module>\u001b[1;34m\u001b[0m\n\u001b[0;32m     15\u001b[0m     \u001b[0mp\u001b[0m\u001b[1;33m.\u001b[0m\u001b[0mspeak\u001b[0m\u001b[1;33m(\u001b[0m\u001b[1;34m\"Well! Who are you?\"\u001b[0m\u001b[1;33m)\u001b[0m\u001b[1;33m\u001b[0m\u001b[1;33m\u001b[0m\u001b[0m\n\u001b[0;32m     16\u001b[0m     \u001b[0mname\u001b[0m\u001b[1;33m=\u001b[0m\u001b[0mr\u001b[0m\u001b[1;33m.\u001b[0m\u001b[0mrecord\u001b[0m\u001b[1;33m(\u001b[0m\u001b[0msource\u001b[0m\u001b[1;33m,\u001b[0m\u001b[1;36m5\u001b[0m\u001b[1;33m)\u001b[0m\u001b[1;33m\u001b[0m\u001b[1;33m\u001b[0m\u001b[0m\n\u001b[1;32m---> 17\u001b[1;33m     \u001b[0mmyname\u001b[0m\u001b[1;33m=\u001b[0m\u001b[0mr\u001b[0m\u001b[1;33m.\u001b[0m\u001b[0mrecognize_google\u001b[0m\u001b[1;33m(\u001b[0m\u001b[0mname\u001b[0m\u001b[1;33m)\u001b[0m\u001b[1;33m\u001b[0m\u001b[1;33m\u001b[0m\u001b[0m\n\u001b[0m\u001b[0;32m     18\u001b[0m     \u001b[0mp\u001b[0m\u001b[1;33m.\u001b[0m\u001b[0mspeak\u001b[0m\u001b[1;33m(\u001b[0m\u001b[1;34m\"Hello!\"\u001b[0m\u001b[1;33m+\u001b[0m\u001b[0mmyname\u001b[0m\u001b[1;33m)\u001b[0m\u001b[1;33m\u001b[0m\u001b[1;33m\u001b[0m\u001b[0m\n\u001b[0;32m     19\u001b[0m \u001b[1;33m\u001b[0m\u001b[0m\n",
      "\u001b[1;32m~\\anaconda3\\lib\\site-packages\\speech_recognition\\__init__.py\u001b[0m in \u001b[0;36mrecognize_google\u001b[1;34m(self, audio_data, key, language, show_all)\u001b[0m\n\u001b[0;32m    856\u001b[0m         \u001b[1;31m# return results\u001b[0m\u001b[1;33m\u001b[0m\u001b[1;33m\u001b[0m\u001b[1;33m\u001b[0m\u001b[0m\n\u001b[0;32m    857\u001b[0m         \u001b[1;32mif\u001b[0m \u001b[0mshow_all\u001b[0m\u001b[1;33m:\u001b[0m \u001b[1;32mreturn\u001b[0m \u001b[0mactual_result\u001b[0m\u001b[1;33m\u001b[0m\u001b[1;33m\u001b[0m\u001b[0m\n\u001b[1;32m--> 858\u001b[1;33m         \u001b[1;32mif\u001b[0m \u001b[1;32mnot\u001b[0m \u001b[0misinstance\u001b[0m\u001b[1;33m(\u001b[0m\u001b[0mactual_result\u001b[0m\u001b[1;33m,\u001b[0m \u001b[0mdict\u001b[0m\u001b[1;33m)\u001b[0m \u001b[1;32mor\u001b[0m \u001b[0mlen\u001b[0m\u001b[1;33m(\u001b[0m\u001b[0mactual_result\u001b[0m\u001b[1;33m.\u001b[0m\u001b[0mget\u001b[0m\u001b[1;33m(\u001b[0m\u001b[1;34m\"alternative\"\u001b[0m\u001b[1;33m,\u001b[0m \u001b[1;33m[\u001b[0m\u001b[1;33m]\u001b[0m\u001b[1;33m)\u001b[0m\u001b[1;33m)\u001b[0m \u001b[1;33m==\u001b[0m \u001b[1;36m0\u001b[0m\u001b[1;33m:\u001b[0m \u001b[1;32mraise\u001b[0m \u001b[0mUnknownValueError\u001b[0m\u001b[1;33m(\u001b[0m\u001b[1;33m)\u001b[0m\u001b[1;33m\u001b[0m\u001b[1;33m\u001b[0m\u001b[0m\n\u001b[0m\u001b[0;32m    859\u001b[0m \u001b[1;33m\u001b[0m\u001b[0m\n\u001b[0;32m    860\u001b[0m         \u001b[1;32mif\u001b[0m \u001b[1;34m\"confidence\"\u001b[0m \u001b[1;32min\u001b[0m \u001b[0mactual_result\u001b[0m\u001b[1;33m[\u001b[0m\u001b[1;34m\"alternative\"\u001b[0m\u001b[1;33m]\u001b[0m\u001b[1;33m:\u001b[0m\u001b[1;33m\u001b[0m\u001b[1;33m\u001b[0m\u001b[0m\n",
      "\u001b[1;31mUnknownValueError\u001b[0m: "
     ]
    }
   ],
   "source": [
    "#! /usr/bin/python3\n",
    "\n",
    "print(\"content-type: text/html\")\n",
    "print()\n",
    "\n",
    "import speech_recognition as sr\n",
    "import subprocess as sp\n",
    "import pyttsx3 as p\n",
    "\n",
    "print(\"Welcome! I am Ron!\")\n",
    "p.speak(\"Welcome! I am Ron!\")\n",
    "r = sr.Recognizer()\n",
    "with sr.Microphone() as source:\n",
    "    print(\"Well! Who are you?\")\n",
    "    p.speak(\"Well! Who are you?\")\n",
    "    name=r.record(source,5)\n",
    "    myname=r.recognize_google(name)\n",
    "    p.speak(\"Hello!\"+myname)\n",
    "    \n",
    "print(\"How can i help you ?\")\n",
    "p.speak(\"How can i help you ?\")\n",
    "response = True\n",
    "while response:\n",
    "    with sr.Microphone() as source:\n",
    "        print(\"---Speak Now---\")\n",
    "        r.adjust_for_ambient_noise(source)\n",
    "        audio = r.record(source, 10)\n",
    "        print(\"---Audio Recorded---\")\n",
    "\n",
    "    try:\n",
    "        data = r.recognize_google(audio)\n",
    "        print(\"Your request: \",data)\n",
    "\n",
    "        if (\"what is your name\" in data) or (\"what's your name\" in data) or (\"who are you\" in data):\n",
    "            p.speak(\"This is Hermoine your voice assistant\")\n",
    "        elif (\"bye\" in data) or (\"thank\" in data):\n",
    "            print(\"bye\")\n",
    "            p.speak(\"It's my pleasure! Have a great day!\")\n",
    "            response = False\n",
    "        elif (\"how are you\" in data):\n",
    "            p.speak(\"I am doing well!\")\n",
    "        elif (\"cal\" in data) and ((\"show\" in data) or (\"open\" in data) or (\"run\" in data) or (\"execute\" in data)):\n",
    "            res = sp.getoutput(\"cal\")\n",
    "            print(res)\n",
    "        elif (\"date\" in data) and ((\"show\" in data) or (\"open\" in data) or (\"run\" in data) or (\"execute\" in data)):\n",
    "            res = sp.getoutput(\"date\")\n",
    "            print(res)\n",
    "        elif (\"clock\" in data) and ((\"show\" in data) or (\"open\" in data) or (\"run\" in data) or (\"execute\" in data)):\n",
    "            res = sp.getoutput(\"while true; do echo -en `date +%T``sleep 1`\\\"\\\\b\\\\b\\\\b\\\\b\\\\b\\\\b\\\\b\\\\b\\\" ; done &\")\n",
    "            print(res)\n",
    "        elif (\"day\" in data) and ((\"show\" in data) or (\"open\" in data) or (\"run\" in data) or (\"execute\" in data)):\n",
    "            res = sp.getoutput(\"date +%A\")\n",
    "            print(res)\n",
    "        elif (\"month\" in data) and ((\"show\" in data) or (\"open\" in data) or (\"run\" in data) or (\"execute\" in data)):\n",
    "            res = sp.getoutput(\"date +%B\")\n",
    "            print(res)\n",
    "        elif (\"time\" in data) and ((\"show\" in data) or (\"open\" in data) or (\"run\" in data) or (\"execute\" in data)):\n",
    "            res = sp.getoutput(\"date +%T\")\n",
    "            print(res)\n",
    "        elif (\"cal\" in data) and (\"this year\") and (\n",
    "                (\"show\" in data) or (\"open\" in data) or (\"run\" in data) or (\"execute\" in data)):\n",
    "            res = sp.getoutput(\"cal -y\")\n",
    "            print(res)\n",
    "        else:\n",
    "            print(\"Invalid\")\n",
    "            p.speak(\"Sorry! I couldn't figure out what you said!\")\n",
    "    except Exception:\n",
    "        print(\"Sorry! I can't get you\")\n",
    "        p.speak(\"Sorry! I can't get you\")"
   ]
  }
 ],
 "metadata": {
  "kernelspec": {
   "display_name": "Python 3",
   "language": "python",
   "name": "python3"
  },
  "language_info": {
   "codemirror_mode": {
    "name": "ipython",
    "version": 3
   },
   "file_extension": ".py",
   "mimetype": "text/x-python",
   "name": "python",
   "nbconvert_exporter": "python",
   "pygments_lexer": "ipython3",
   "version": "3.8.3"
  }
 },
 "nbformat": 4,
 "nbformat_minor": 4
}
